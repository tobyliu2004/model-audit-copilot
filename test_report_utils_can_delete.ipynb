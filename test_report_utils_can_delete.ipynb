{
 "cells": [
  {
   "cell_type": "code",
   "execution_count": 2,
   "id": "f06a3dd6",
   "metadata": {},
   "outputs": [],
   "source": [
    "from copilot.auditor.audit_orchestrator import AuditOrchestrator\n",
    "from copilot.outliers.outlier_detector import detect_outliers\n",
    "from scripts.reports_utils import generate_audit_markdown, save_report\n",
    "\n",
    "import pandas as pd\n",
    "\n",
    "ref_df = pd.read_csv(\"/Users/tobyliu/ref_df.csv\")\n",
    "cur_df = pd.read_csv(\"/Users/tobyliu/cur_df.csv\")\n",
    "\n",
    "auditor = AuditOrchestrator(ref_df, cur_df)\n",
    "auditor.run_drift_check(method=\"ks\")\n",
    "auditor.run_fairness_check(\n",
    "    y_true=cur_df['true_cost'],\n",
    "    y_pred=cur_df['predicted_cost'],\n",
    "    group_feature=cur_df['race']\n",
    ")\n",
    "\n",
    "markdown = generate_audit_markdown(\n",
    "    drift=auditor.get_results().get(\"drift\"),\n",
    "    fairness=auditor.get_results().get(\"fairness\"),\n",
    "    outliers=detect_outliers(cur_df)\n",
    ")\n",
    "\n",
    "save_report(markdown, \"audit_report.md\")\n"
   ]
  },
  {
   "cell_type": "code",
   "execution_count": 3,
   "id": "8ae74109",
   "metadata": {},
   "outputs": [],
   "source": [
    "from scripts.reports_utils import generate_audit_markdown, save_report\n",
    "\n",
    "markdown = generate_audit_markdown(\n",
    "    drift=auditor.get_results().get(\"drift\"),\n",
    "    fairness=auditor.get_results().get(\"fairness\"),\n",
    "    outliers=detect_outliers(cur_df)\n",
    ")\n",
    "\n",
    "save_report(markdown, \"audit_report.md\")\n"
   ]
  },
  {
   "cell_type": "code",
   "execution_count": 4,
   "id": "f0d27e82",
   "metadata": {},
   "outputs": [
    {
     "name": "stdout",
     "output_type": "stream",
     "text": [
      "          feature  correlation  leakage_flag\n",
      "0  predicted_cost       0.9263          True\n"
     ]
    }
   ],
   "source": [
    "from copilot.leakage.leakage_detector import detect_target_leakage\n",
    "\n",
    "leak_report = detect_target_leakage(cur_df, target_col='true_cost')\n",
    "print(leak_report)\n"
   ]
  }
 ],
 "metadata": {
  "kernelspec": {
   "display_name": "ml-env",
   "language": "python",
   "name": "python3"
  },
  "language_info": {
   "codemirror_mode": {
    "name": "ipython",
    "version": 3
   },
   "file_extension": ".py",
   "mimetype": "text/x-python",
   "name": "python",
   "nbconvert_exporter": "python",
   "pygments_lexer": "ipython3",
   "version": "3.11.8"
  }
 },
 "nbformat": 4,
 "nbformat_minor": 5
}
